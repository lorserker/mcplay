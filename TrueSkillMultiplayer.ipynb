{
 "cells": [
  {
   "cell_type": "code",
   "execution_count": 2,
   "metadata": {
    "collapsed": false
   },
   "outputs": [
    {
     "name": "stdout",
     "output_type": "stream",
     "text": [
      "Populating the interactive namespace from numpy and matplotlib\n"
     ]
    }
   ],
   "source": [
    "%pylab inline"
   ]
  },
  {
   "cell_type": "code",
   "execution_count": 3,
   "metadata": {
    "collapsed": true
   },
   "outputs": [],
   "source": [
    "from __future__ import division\n",
    "\n",
    "from random import gauss\n",
    "import math\n",
    "\n",
    "import pymc as pm"
   ]
  },
  {
   "cell_type": "markdown",
   "metadata": {},
   "source": [
    "## Multiplayer TrueSkill Implementation"
   ]
  },
  {
   "cell_type": "markdown",
   "metadata": {},
   "source": [
    "First we are going to simulate some matches between N players"
   ]
  },
  {
   "cell_type": "code",
   "execution_count": 118,
   "metadata": {
    "collapsed": false
   },
   "outputs": [],
   "source": [
    "N = 8\n",
    "\n",
    "player_skill = np.random.randn(N)"
   ]
  },
  {
   "cell_type": "markdown",
   "metadata": {},
   "source": [
    "We assign the players some random skills."
   ]
  },
  {
   "cell_type": "code",
   "execution_count": 119,
   "metadata": {
    "collapsed": false
   },
   "outputs": [
    {
     "data": {
      "text/plain": [
       "array([ 0.14203934,  0.39104567, -0.32783294, -1.02282213,  0.4337989 ,\n",
       "        0.69600785,  0.50098572, -0.01089866])"
      ]
     },
     "execution_count": 119,
     "metadata": {},
     "output_type": "execute_result"
    }
   ],
   "source": [
    "player_skill"
   ]
  },
  {
   "cell_type": "code",
   "execution_count": 130,
   "metadata": {
    "collapsed": false
   },
   "outputs": [],
   "source": [
    "match_outcomes = []\n",
    "player_points = np.zeros_like(player_skill)\n",
    "\n",
    "for _ in range(10):\n",
    "    for i in range(len(player_skill)):\n",
    "        for j in range(len(player_skill)):\n",
    "            if i == j:\n",
    "                continue\n",
    "            perf_i, perf_j = gauss(player_skill[i], 0.5), gauss(player_skill[j], 0.5)\n",
    "            outcome = 1 if perf_i > perf_j else 2\n",
    "            if math.fabs(perf_i - perf_j) < 0.2:\n",
    "                outcome = 0\n",
    "            match_outcomes.append([i, j, outcome])\n",
    "            player_points[i] += 1\n",
    "            player_points[j] += 1\n",
    "            if outcome == 1:\n",
    "                player_points[i] += 2\n",
    "                player_points[j] -= 1\n",
    "            elif outcome == 0:\n",
    "                player_points[i] -= 1\n",
    "                player_points[j] += 2"
   ]
  },
  {
   "cell_type": "markdown",
   "metadata": {},
   "source": [
    "This is the standings after 10 seasons of everybody playing against everybody. Player 3 is clearly worst, and Player 5 is best, but players 1, 4 and 6 are also close (both in score and skill) "
   ]
  },
  {
   "cell_type": "code",
   "execution_count": 163,
   "metadata": {
    "collapsed": false
   },
   "outputs": [
    {
     "data": {
      "text/plain": [
       "[(231.0, 0.69600784995700582, 5),\n",
       " (227.0, 0.39104566560548742, 1),\n",
       " (221.0, 0.43379889692932927, 4),\n",
       " (218.0, 0.50098571779077916, 6),\n",
       " (169.0, 0.14203933776999556, 0),\n",
       " (169.0, -0.01089865923963319, 7),\n",
       " (127.0, -0.32783293640223726, 2),\n",
       " (78.0, -1.0228221263619006, 3)]"
      ]
     },
     "execution_count": 163,
     "metadata": {},
     "output_type": "execute_result"
    }
   ],
   "source": [
    "sorted(zip(player_points, player_skill, range(8)), reverse=True)"
   ]
  },
  {
   "cell_type": "code",
   "execution_count": 132,
   "metadata": {
    "collapsed": false
   },
   "outputs": [],
   "source": [
    "match_outcomes = np.array(match_outcomes)"
   ]
  },
  {
   "cell_type": "markdown",
   "metadata": {},
   "source": [
    "The match outcomes look like this [first_player, second_player, outcome]. Outcome is 0 if draw, 1 if first player wins, 2 if second player wins"
   ]
  },
  {
   "cell_type": "code",
   "execution_count": 166,
   "metadata": {
    "collapsed": false
   },
   "outputs": [
    {
     "data": {
      "text/plain": [
       "array([[0, 1, 2],\n",
       "       [0, 2, 1],\n",
       "       [0, 3, 1],\n",
       "       [0, 4, 2],\n",
       "       [0, 5, 2],\n",
       "       [0, 6, 1],\n",
       "       [0, 7, 2],\n",
       "       [1, 0, 1],\n",
       "       [1, 2, 1],\n",
       "       [1, 3, 1]])"
      ]
     },
     "execution_count": 166,
     "metadata": {},
     "output_type": "execute_result"
    }
   ],
   "source": [
    "match_outcomes[:10]"
   ]
  },
  {
   "cell_type": "code",
   "execution_count": 167,
   "metadata": {
    "collapsed": false
   },
   "outputs": [
    {
     "data": {
      "text/plain": [
       "(560, 3)"
      ]
     },
     "execution_count": 167,
     "metadata": {},
     "output_type": "execute_result"
    }
   ],
   "source": [
    "match_outcomes.shape"
   ]
  },
  {
   "cell_type": "code",
   "execution_count": 139,
   "metadata": {
    "collapsed": false
   },
   "outputs": [
    {
     "name": "stdout",
     "output_type": "stream",
     "text": [
      " [-----------------100%-----------------] 20000 of 20000 complete in 5.7 sec"
     ]
    }
   ],
   "source": [
    "matches = match_outcomes[:,:2].astype(int)\n",
    "\n",
    "mu = pm.Normal('mu', mu=0, tau=1/9)\n",
    "sd = pm.Gamma('sd', 1, 1)\n",
    "\n",
    "skill = pm.Normal('skill', mu=mu, tau=1/(sd**2), size=N)\n",
    "\n",
    "@pm.deterministic\n",
    "def p1wins(skill=skill):\n",
    "    # compute the difference in skill between players\n",
    "    d = skill[matches[:, 0]] - skill[matches[:, 1]]\n",
    "    # compute the probability of the first player win (using the logistic function)\n",
    "    p = 1.0 / (1 + np.exp(-d))\n",
    "    # epsilon is the probability of a draw (decreases exponentially as p is further from 0.5)\n",
    "    epsilon = np.exp(-15*(np.abs(p-0.5))) + 1e-6\n",
    "    #return the probability of all three outcomes [draw, p1win, p2win]\n",
    "    return np.vstack((np.zeros_like(p) + epsilon, p - epsilon/2, 1-p-epsilon/2)).T\n",
    "\n",
    "# observed categorical variable (corresponding to the third column of match_outcomes)\n",
    "outcome = pm.Categorical('outcome', p=p1wins, value=list(match_outcomes[:,2]), observed=True)\n",
    "\n",
    "model = pm.Model([mu, sd, skill, p1wins, outcome])\n",
    "mcmc = pm.MCMC(model)\n",
    "mcmc.sample(20000)"
   ]
  },
  {
   "cell_type": "markdown",
   "metadata": {},
   "source": [
    "We plot the posterior distributions of skill for each player. As in our dataset, Player 3 is by far the worst, and Player 5 is the best."
   ]
  },
  {
   "cell_type": "code",
   "execution_count": 140,
   "metadata": {
    "collapsed": false
   },
   "outputs": [
    {
     "data": {
      "image/png": "[encoded data removed]",
      "text/plain": [
       "<matplotlib.figure.Figure at 0x7f9ebe795b10>"
      ]
     },
     "metadata": {},
     "output_type": "display_data"
    }
   ],
   "source": [
    "hist(mcmc.trace('skill')[10000:,0], 40, histtype='step', normed=True, label='P0');\n",
    "hist(mcmc.trace('skill')[10000:,1], 40, histtype='step', normed=True, label='P1');\n",
    "hist(mcmc.trace('skill')[10000:,2], 40, histtype='step', normed=True, label='P2');\n",
    "hist(mcmc.trace('skill')[10000:,3], 40, histtype='step', normed=True, label='P3');\n",
    "hist(mcmc.trace('skill')[10000:,4], 40, histtype='step', normed=True, label='P4');\n",
    "hist(mcmc.trace('skill')[10000:,5], 40, histtype='step', normed=True, label='P5');\n",
    "hist(mcmc.trace('skill')[10000:,6], 40, histtype='step', normed=True, label='P6');\n",
    "hist(mcmc.trace('skill')[10000:,7], 40, histtype='step', normed=True, label='P7');\n",
    "legend(loc='best');"
   ]
  },
  {
   "cell_type": "markdown",
   "metadata": {},
   "source": [
    "Now we simulate a season from our posterior skill distributions"
   ]
  },
  {
   "cell_type": "code",
   "execution_count": 170,
   "metadata": {
    "collapsed": false
   },
   "outputs": [],
   "source": [
    "sim_matches = []\n",
    "sim_points = np.zeros_like(player_points)\n",
    "\n",
    "\n",
    "for i in range(len(player_skill)):\n",
    "    for j in range(len(player_skill)):\n",
    "        if i == j:\n",
    "            continue\n",
    "        skill_i, skill_j = np.mean(mcmc.trace('skill')[10000:,i]), np.mean(mcmc.trace('skill')[10000:,j])\n",
    "        sd = np.mean(mcmc.trace('sd')[10000:])\n",
    "        perf_i, perf_j = gauss(skill_i, sd), gauss(skill_j, sd)\n",
    "        outcome = 1 if skill_i > skill_j else 2\n",
    "        if np.abs(perf_i - perf_j) < 0.2:\n",
    "            outcome = 0\n",
    "        sim_points[i] += 1\n",
    "        sim_points[j] += 1\n",
    "        if outcome == 1:\n",
    "            sim_points[i] += 2\n",
    "            sim_points[j] -= 1\n",
    "        elif outcome == 2:\n",
    "            sim_points[i] -= 1\n",
    "            sim_points[j] += 2\n",
    "        sim_matches.append([i, j, outcome])"
   ]
  },
  {
   "cell_type": "markdown",
   "metadata": {},
   "source": [
    "The standings:"
   ]
  },
  {
   "cell_type": "code",
   "execution_count": 171,
   "metadata": {
    "collapsed": false
   },
   "outputs": [
    {
     "data": {
      "text/plain": [
       "[(36.0, 0.69600784995700582, 5),\n",
       " (34.0, 0.39104566560548742, 1),\n",
       " (31.0, 0.43379889692932927, 4),\n",
       " (24.0, 0.50098571779077916, 6),\n",
       " (19.0, 0.14203933776999556, 0),\n",
       " (14.0, -0.01089865923963319, 7),\n",
       " (6.0, -0.32783293640223726, 2),\n",
       " (0.0, -1.0228221263619006, 3)]"
      ]
     },
     "execution_count": 171,
     "metadata": {},
     "output_type": "execute_result"
    }
   ],
   "source": [
    "sorted(zip(sim_points, player_skill, range(N)), reverse=True)"
   ]
  },
  {
   "cell_type": "markdown",
   "metadata": {},
   "source": [
    "And the matches [P1, P2, outcome]:"
   ]
  },
  {
   "cell_type": "code",
   "execution_count": 173,
   "metadata": {
    "collapsed": false
   },
   "outputs": [
    {
     "data": {
      "text/plain": [
       "[[0, 1, 2],\n",
       " [0, 2, 1],\n",
       " [0, 3, 1],\n",
       " [0, 4, 2],\n",
       " [0, 5, 2],\n",
       " [0, 6, 2],\n",
       " [0, 7, 1],\n",
       " [1, 0, 1],\n",
       " [1, 2, 1],\n",
       " [1, 3, 1],\n",
       " [1, 4, 1],\n",
       " [1, 5, 2],\n",
       " [1, 6, 1],\n",
       " [1, 7, 1],\n",
       " [2, 0, 2],\n",
       " [2, 1, 2],\n",
       " [2, 3, 1],\n",
       " [2, 4, 2],\n",
       " [2, 5, 2],\n",
       " [2, 6, 2],\n",
       " [2, 7, 2],\n",
       " [3, 0, 2],\n",
       " [3, 1, 2],\n",
       " [3, 2, 2],\n",
       " [3, 4, 2],\n",
       " [3, 5, 2],\n",
       " [3, 6, 2],\n",
       " [3, 7, 2],\n",
       " [4, 0, 1],\n",
       " [4, 1, 2],\n",
       " [4, 2, 1],\n",
       " [4, 3, 1],\n",
       " [4, 5, 0],\n",
       " [4, 6, 1],\n",
       " [4, 7, 1],\n",
       " [5, 0, 0],\n",
       " [5, 1, 1],\n",
       " [5, 2, 1],\n",
       " [5, 3, 1],\n",
       " [5, 4, 1],\n",
       " [5, 6, 1],\n",
       " [5, 7, 0],\n",
       " [6, 0, 1],\n",
       " [6, 1, 2],\n",
       " [6, 2, 1],\n",
       " [6, 3, 1],\n",
       " [6, 4, 2],\n",
       " [6, 5, 2],\n",
       " [6, 7, 1],\n",
       " [7, 0, 2],\n",
       " [7, 1, 0],\n",
       " [7, 2, 1],\n",
       " [7, 3, 1],\n",
       " [7, 4, 2],\n",
       " [7, 5, 2],\n",
       " [7, 6, 2]]"
      ]
     },
     "execution_count": 173,
     "metadata": {},
     "output_type": "execute_result"
    }
   ],
   "source": [
    "sim_matches"
   ]
  },
  {
   "cell_type": "code",
   "execution_count": null,
   "metadata": {
    "collapsed": true
   },
   "outputs": [],
   "source": []
  }
 ],
 "metadata": {
  "kernelspec": {
   "display_name": "Python 2",
   "language": "python",
   "name": "python2"
  },
  "language_info": {
   "codemirror_mode": {
    "name": "ipython",
    "version": 2
   },
   "file_extension": ".py",
   "mimetype": "text/x-python",
   "name": "python",
   "nbconvert_exporter": "python",
   "pygments_lexer": "ipython2",
   "version": "2.7.11"
  }
 },
 "nbformat": 4,
 "nbformat_minor": 0
}
